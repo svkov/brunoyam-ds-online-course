{
 "cells": [
  {
   "cell_type": "code",
   "execution_count": 5,
   "id": "7da716e5",
   "metadata": {},
   "outputs": [
    {
     "name": "stdout",
     "output_type": "stream",
     "text": [
      "[('Emil                                                                                                                                                                                                                                                           ', 15)]\n"
     ]
    }
   ],
   "source": [
    "import psycopg2\n",
    "\n",
    "connection = psycopg2.connect(\n",
    "    database=\"db\", \n",
    "    user=\"user\", \n",
    "    password=\"pass\", \n",
    "    host=\"localhost\", \n",
    "    port=5432,\n",
    ")\n",
    "cursor = connection.cursor()\n",
    "\n",
    "cursor.execute('SELECT * FROM users;')\n",
    "\n",
    "print(cursor.fetchall())"
   ]
  },
  {
   "cell_type": "code",
   "execution_count": null,
   "id": "59e3e7fa",
   "metadata": {},
   "outputs": [],
   "source": []
  }
 ],
 "metadata": {
  "kernelspec": {
   "display_name": "Python 3.10.5 ('brunoyam')",
   "language": "python",
   "name": "python3"
  },
  "language_info": {
   "codemirror_mode": {
    "name": "ipython",
    "version": 3
   },
   "file_extension": ".py",
   "mimetype": "text/x-python",
   "name": "python",
   "nbconvert_exporter": "python",
   "pygments_lexer": "ipython3",
   "version": "3.10.5"
  },
  "vscode": {
   "interpreter": {
    "hash": "7af6772c3feab79a21ca4f624ae309a80864298e61febf6c4e406e5f59aaf65f"
   }
  }
 },
 "nbformat": 4,
 "nbformat_minor": 5
}
