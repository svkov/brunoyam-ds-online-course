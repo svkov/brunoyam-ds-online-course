{
 "cells": [
  {
   "cell_type": "markdown",
   "id": "48045bb6-054c-4235-aca7-0d656ea4a59c",
   "metadata": {},
   "source": [
    "# Задача 1\n",
    "\n",
    "Вычислить и вывести на экран:\n",
    "\n",
    "$$\\frac{5 + \\frac{7 * 5}{8}}{3^5}$$"
   ]
  },
  {
   "cell_type": "code",
   "execution_count": 19,
   "id": "7790eddf-179b-42ce-b317-901dca77299e",
   "metadata": {},
   "outputs": [
    {
     "name": "stdout",
     "output_type": "stream",
     "text": [
      "0.038580246913580245\n"
     ]
    }
   ],
   "source": [
    "value = 7 * 5\n",
    "value = 5 + value / 8\n",
    "value = value / (3 ** 5)\n",
    "print(value)"
   ]
  },
  {
   "cell_type": "markdown",
   "id": "97ce79b8-fdba-469e-b0fb-e360bb642b51",
   "metadata": {},
   "source": [
    "# Задача 2\n",
    "\n",
    "Длина Московской кольцевой автомобильной дороги – 109 километров. Байкер Вася\n",
    "стартует с нулевого километра МКАД и едет со скоростью 𝑣 километров в час. На какой\n",
    "отметке он остановится через 𝑡 часов? Значения скорости и времени считаются целыми\n",
    "числами.\n",
    "\n",
    "На вход поступают два числа - 𝑣 и 𝑡\n",
    "\n",
    "Вывести нужно одно число - расстояние от точки начала пути"
   ]
  },
  {
   "cell_type": "code",
   "execution_count": 22,
   "id": "e6199f72-76eb-4b59-b83f-0343eada0ef1",
   "metadata": {},
   "outputs": [
    {
     "name": "stdin",
     "output_type": "stream",
     "text": [
      " 30\n",
      " 5\n"
     ]
    },
    {
     "name": "stdout",
     "output_type": "stream",
     "text": [
      "41\n"
     ]
    }
   ],
   "source": [
    "v = int(input())\n",
    "t = int(input())\n",
    "\n",
    "result = v * t % 109\n",
    "print(result)"
   ]
  },
  {
   "cell_type": "markdown",
   "id": "7c83665e-c9a1-40c8-a1e0-35cac10be2d0",
   "metadata": {},
   "source": [
    "# Задача 3\n",
    "\n",
    "На вход подаются 2 числа. Числа могут быть как целые, так и вещественные. Сравните их\n",
    "значения и найдите наибольшее. Решите задание без использования if.\n",
    "\n",
    "Помните, что результатом сравнения является True или\n",
    "False (тип bool). При этом True эквивалентно 1, а False 0 при умножении."
   ]
  },
  {
   "cell_type": "code",
   "execution_count": 24,
   "id": "343baca8-b393-4d78-99b3-e81950b53c55",
   "metadata": {},
   "outputs": [
    {
     "name": "stdin",
     "output_type": "stream",
     "text": [
      " 12\n",
      " 1\n"
     ]
    },
    {
     "name": "stdout",
     "output_type": "stream",
     "text": [
      "12.0\n"
     ]
    }
   ],
   "source": [
    "# с ифом\n",
    "a = float(input())\n",
    "b = float(input())\n",
    "\n",
    "if a > b:\n",
    "    print(a)\n",
    "else:\n",
    "    print(b)"
   ]
  },
  {
   "cell_type": "code",
   "execution_count": 29,
   "id": "d02a0b84-982a-4cd1-99b4-e62970ce2e65",
   "metadata": {},
   "outputs": [
    {
     "name": "stdin",
     "output_type": "stream",
     "text": [
      " 1\n",
      " 2\n"
     ]
    },
    {
     "name": "stdout",
     "output_type": "stream",
     "text": [
      "2.0\n"
     ]
    }
   ],
   "source": [
    "# без ифа\n",
    "a = float(input())\n",
    "b = float(input())\n",
    "\n",
    "print(a * (a > b) + b * (b > a))"
   ]
  },
  {
   "cell_type": "code",
   "execution_count": 30,
   "id": "516e5cc3-8dae-4efa-be43-dbb5a2fc4def",
   "metadata": {},
   "outputs": [
    {
     "name": "stdin",
     "output_type": "stream",
     "text": [
      " 1\n",
      " 2\n"
     ]
    },
    {
     "name": "stdout",
     "output_type": "stream",
     "text": [
      "2.0\n"
     ]
    }
   ],
   "source": [
    "# через max\n",
    "a = float(input())\n",
    "b = float(input())\n",
    "\n",
    "print(max(a, b))"
   ]
  },
  {
   "cell_type": "markdown",
   "id": "966763d8-9eb8-4e54-89a9-6451daee64a3",
   "metadata": {},
   "source": [
    "# Задача 4\n",
    "\n",
    "Даны 3 целых числа, нужно определить сколько среди них совпадающих.\n",
    "\n",
    "Вывести:\n",
    "- 3, если все совпадают\n",
    "- 2, если 2 совпадают\n",
    "- 1, если все разные"
   ]
  },
  {
   "cell_type": "code",
   "execution_count": 5,
   "id": "7cc2f2de-425b-4e76-9f7c-c4cecb4b06b9",
   "metadata": {},
   "outputs": [
    {
     "name": "stdin",
     "output_type": "stream",
     "text": [
      " 1\n",
      " 1\n",
      " 1\n"
     ]
    },
    {
     "name": "stdout",
     "output_type": "stream",
     "text": [
      "3\n"
     ]
    }
   ],
   "source": [
    "a = int(input())\n",
    "b = int(input())\n",
    "c = int(input())\n",
    "\n",
    "if a == b and b == c:\n",
    "    print(3)\n",
    "elif a == b or b == c or a == c:\n",
    "    print(2)\n",
    "else:\n",
    "    print(1)"
   ]
  },
  {
   "cell_type": "markdown",
   "id": "149df597-49a0-468b-b895-43fb606245a6",
   "metadata": {},
   "source": [
    "# Задача 5\n",
    "\n",
    "Шахматная ладья умеет ходить по вертикали и горизонтали. На вход подается две клетки шахматного поля, нужно определить, получится ли у ладьи в один ход попасть из первой клетки во вторую.\n",
    "\n",
    "Входные данные:\n",
    "\n",
    "4 целых числа от 1 до 8. Первые два числа обозначают номер строки и столбца исходной клетки, вторые два числа номер строки и столбца клетки, куда нужно передвинуть фигуру.\n",
    "\n",
    "Выходные данные:\n",
    "\n",
    "Вывести YES, если получится за один ход переместить фигуру и NO, если не получится."
   ]
  },
  {
   "cell_type": "code",
   "execution_count": 9,
   "id": "1b841768-14ef-48fd-9292-2eb83c13d8a1",
   "metadata": {},
   "outputs": [
    {
     "name": "stdin",
     "output_type": "stream",
     "text": [
      " 1\n",
      " 1\n",
      " 3\n",
      " 2\n"
     ]
    },
    {
     "name": "stdout",
     "output_type": "stream",
     "text": [
      "NO\n"
     ]
    }
   ],
   "source": [
    "x1 = int(input())\n",
    "y1 = int(input())\n",
    "x2 = int(input())\n",
    "y2 = int(input())\n",
    "\n",
    "if x1 == x2 or y1 == y2:\n",
    "    print('YES')\n",
    "else:\n",
    "    print('NO')"
   ]
  },
  {
   "cell_type": "markdown",
   "id": "d67af168-1929-4b0c-90a4-c95c7e60e80b",
   "metadata": {},
   "source": [
    "# Задача 6\n",
    "\n",
    "Пользователь вводит пароль, нужно проверить пароль на безопасность. Безопасным считается пароль, в котором 8 и более символов и которые включает строчные и заглавные буквы.\n",
    "\n",
    "Вывести YES, если пароль безопасный и NO в обратном случае."
   ]
  },
  {
   "cell_type": "code",
   "execution_count": 18,
   "id": "04990036-ef59-481f-befd-ea76b7e8ce47",
   "metadata": {},
   "outputs": [
    {
     "name": "stdin",
     "output_type": "stream",
     "text": [
      " abcdefgh\n"
     ]
    },
    {
     "name": "stdout",
     "output_type": "stream",
     "text": [
      "NO\n"
     ]
    }
   ],
   "source": [
    "password = input()\n",
    "\n",
    "if len(password) >= 8 and not password.islower() and not password.isupper():\n",
    "    print('YES')\n",
    "else:\n",
    "    print('NO')"
   ]
  }
 ],
 "metadata": {
  "kernelspec": {
   "display_name": "Python 3 (ipykernel)",
   "language": "python",
   "name": "python3"
  },
  "language_info": {
   "codemirror_mode": {
    "name": "ipython",
    "version": 3
   },
   "file_extension": ".py",
   "mimetype": "text/x-python",
   "name": "python",
   "nbconvert_exporter": "python",
   "pygments_lexer": "ipython3",
   "version": "3.9.12"
  }
 },
 "nbformat": 4,
 "nbformat_minor": 5
}
