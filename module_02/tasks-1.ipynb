{
 "cells": [
  {
   "cell_type": "markdown",
   "id": "48045bb6-054c-4235-aca7-0d656ea4a59c",
   "metadata": {},
   "source": [
    "# Задача 1\n",
    "\n",
    "Вычислить и вывести на экран:\n",
    "\n",
    "$$\\frac{5 + \\frac{7 * 5}{8}}{3^5}$$"
   ]
  },
  {
   "cell_type": "code",
   "execution_count": 1,
   "id": "7790eddf-179b-42ce-b317-901dca77299e",
   "metadata": {},
   "outputs": [
    {
     "name": "stdout",
     "output_type": "stream",
     "text": [
      "0.038580246913580245\n"
     ]
    }
   ],
   "source": [
    "value = (7 * 5) / 8\n",
    "value = value + 5\n",
    "value = value / (3 ** 5)\n",
    "print(value)"
   ]
  },
  {
   "cell_type": "markdown",
   "id": "97ce79b8-fdba-469e-b0fb-e360bb642b51",
   "metadata": {},
   "source": [
    "# Задача 2\n",
    "\n",
    "Длина Московской кольцевой автомобильной дороги – 109 километров. Байкер Вася\n",
    "стартует с нулевого километра МКАД и едет со скоростью 𝑣 километров в час. На какой\n",
    "отметке он остановится через 𝑡 часов? Значения скорости и времени считаются целыми\n",
    "числами.\n",
    "\n",
    "На вход поступают два числа - 𝑣 и 𝑡\n",
    "\n",
    "Вывести нужно одно число - расстояние от точки начала пути"
   ]
  },
  {
   "cell_type": "code",
   "execution_count": 4,
   "id": "e6199f72-76eb-4b59-b83f-0343eada0ef1",
   "metadata": {},
   "outputs": [
    {
     "name": "stdin",
     "output_type": "stream",
     "text": [
      " 20\n",
      " 6\n"
     ]
    },
    {
     "name": "stdout",
     "output_type": "stream",
     "text": [
      "11\n"
     ]
    }
   ],
   "source": [
    "v = int(input())\n",
    "t = int(input())\n",
    "print(v * t % 109)"
   ]
  },
  {
   "cell_type": "markdown",
   "id": "7c83665e-c9a1-40c8-a1e0-35cac10be2d0",
   "metadata": {},
   "source": [
    "# Задача 3\n",
    "\n",
    "На вход подаются 2 числа. Числа могут быть как целые, так и вещественные. Сравните их\n",
    "значения и найдите наибольшее. Решите задание без использования if.\n",
    "\n",
    "Помните, что результатом сравнения является True или\n",
    "False (тип bool). При этом True эквивалентно 1, а False 0 при умножении."
   ]
  },
  {
   "cell_type": "code",
   "execution_count": 6,
   "id": "343baca8-b393-4d78-99b3-e81950b53c55",
   "metadata": {},
   "outputs": [
    {
     "name": "stdin",
     "output_type": "stream",
     "text": [
      " 1.5\n",
      " 2.3\n"
     ]
    },
    {
     "name": "stdout",
     "output_type": "stream",
     "text": [
      "2.3\n"
     ]
    }
   ],
   "source": [
    "a = float(input())\n",
    "b = float(input())\n",
    "print(max(a, b))"
   ]
  },
  {
   "cell_type": "code",
   "execution_count": 8,
   "id": "d02a0b84-982a-4cd1-99b4-e62970ce2e65",
   "metadata": {},
   "outputs": [
    {
     "name": "stdin",
     "output_type": "stream",
     "text": [
      " 15\n",
      " 10\n"
     ]
    },
    {
     "name": "stdout",
     "output_type": "stream",
     "text": [
      "15.0\n"
     ]
    }
   ],
   "source": [
    "a = float(input())\n",
    "b = float(input())\n",
    "\n",
    "result = a * (a > b) + b * (b > a)\n",
    "print(result)"
   ]
  },
  {
   "cell_type": "code",
   "execution_count": null,
   "id": "516e5cc3-8dae-4efa-be43-dbb5a2fc4def",
   "metadata": {},
   "outputs": [],
   "source": []
  }
 ],
 "metadata": {
  "kernelspec": {
   "display_name": "Python 3 (ipykernel)",
   "language": "python",
   "name": "python3"
  },
  "language_info": {
   "codemirror_mode": {
    "name": "ipython",
    "version": 3
   },
   "file_extension": ".py",
   "mimetype": "text/x-python",
   "name": "python",
   "nbconvert_exporter": "python",
   "pygments_lexer": "ipython3",
   "version": "3.9.12"
  }
 },
 "nbformat": 4,
 "nbformat_minor": 5
}
