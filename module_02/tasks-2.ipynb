{
 "cells": [
  {
   "cell_type": "markdown",
   "id": "89931bea-f226-4647-a929-06da98a7c7db",
   "metadata": {},
   "source": [
    "# Задача 1\n",
    "\n",
    "Даны 3 целых числа, нужно определить сколько среди них совпадающих.\n",
    "\n",
    "Вывести:\n",
    "- 3, если все совпадают\n",
    "- 2, если 2 совпадают\n",
    "- 1, если все разные"
   ]
  },
  {
   "cell_type": "code",
   "execution_count": 4,
   "id": "8481c699-187f-4fab-be17-722e45caacd7",
   "metadata": {},
   "outputs": [
    {
     "name": "stdin",
     "output_type": "stream",
     "text": [
      " 5\n",
      " 3\n",
      " 9\n"
     ]
    },
    {
     "name": "stdout",
     "output_type": "stream",
     "text": [
      "1\n"
     ]
    }
   ],
   "source": [
    "a = int(input())\n",
    "b = int(input())\n",
    "c = int(input())\n",
    "\n",
    "if a == b and b == c and a == c:\n",
    "    print(3)\n",
    "elif a == b or b == c or a == c:\n",
    "    print(2)\n",
    "else:\n",
    "    print(1)"
   ]
  },
  {
   "cell_type": "markdown",
   "id": "2656042a-8aef-4799-afb5-3f8eee8e878a",
   "metadata": {},
   "source": [
    "# Задача 2\n",
    "\n",
    "Шахматная ладья умеет ходить по вертикали и горизонтали. На вход подается две клетки шахматного поля, нужно определить, получится ли у ладьи в один ход попасть из первой клетки во вторую.\n",
    "\n",
    "Входные данные:\n",
    "\n",
    "4 целых числа от 1 до 8. Первые два числа обозначают номер строки и столбца исходной клетки, вторые два числа номер строки и столбца клетки, куда нужно передвинуть фигуру.\n",
    "\n",
    "Выходные данные:\n",
    "\n",
    "Вывести YES, если получится за один ход переместить фигуру и NO, если не получится."
   ]
  },
  {
   "cell_type": "code",
   "execution_count": 8,
   "id": "0de10182-b9b3-4cec-abc8-117794217094",
   "metadata": {},
   "outputs": [
    {
     "name": "stdin",
     "output_type": "stream",
     "text": [
      " 2\n",
      " 2\n",
      " 8\n",
      " 2\n"
     ]
    },
    {
     "name": "stdout",
     "output_type": "stream",
     "text": [
      "YES\n"
     ]
    }
   ],
   "source": [
    "x1 = int(input())\n",
    "y1 = int(input())\n",
    "x2 = int(input())\n",
    "y2 = int(input())\n",
    "\n",
    "if x1 == x2 or y1 == y2:\n",
    "    print('YES')\n",
    "else:\n",
    "    print('NO')"
   ]
  },
  {
   "cell_type": "markdown",
   "id": "52823dca-7ce0-44ae-8e16-865916e2f97d",
   "metadata": {},
   "source": [
    "# Задача 3\n",
    "\n",
    "Пользователь вводит пароль, нужно проверить пароль на безопасность. Безопасным считается пароль, в котором 8 и более символов и которые включает строчные и заглавные буквы.\n",
    "\n",
    "Вывести YES, если пароль безопасный и NO в обратном случае."
   ]
  },
  {
   "cell_type": "code",
   "execution_count": 19,
   "id": "f0846943-fbf3-442e-9cd4-0af12f767637",
   "metadata": {},
   "outputs": [
    {
     "name": "stdin",
     "output_type": "stream",
     "text": [
      " jfkdsalfjlkdsfjLKSADJLKSAD\n"
     ]
    },
    {
     "name": "stdout",
     "output_type": "stream",
     "text": [
      "YES\n"
     ]
    }
   ],
   "source": [
    "password = input()\n",
    "\n",
    "if len(password) >= 8 and not password.islower() and not password.isupper():\n",
    "    print('YES')\n",
    "else:\n",
    "    print('NO')"
   ]
  },
  {
   "cell_type": "code",
   "execution_count": 12,
   "id": "17080370-f837-49a1-a8f0-9e67ee835794",
   "metadata": {},
   "outputs": [
    {
     "data": {
      "text/plain": [
       "False"
      ]
     },
     "execution_count": 12,
     "metadata": {},
     "output_type": "execute_result"
    }
   ],
   "source": [
    "'Adfdsdsjkfhsjk'.islower()"
   ]
  },
  {
   "cell_type": "code",
   "execution_count": 14,
   "id": "7adf3e0e-9470-42be-b4d1-12de7b91de24",
   "metadata": {},
   "outputs": [
    {
     "data": {
      "text/plain": [
       "False"
      ]
     },
     "execution_count": 14,
     "metadata": {},
     "output_type": "execute_result"
    }
   ],
   "source": [
    "'ASDSADSa'.isupper()"
   ]
  }
 ],
 "metadata": {
  "kernelspec": {
   "display_name": "Python 3 (ipykernel)",
   "language": "python",
   "name": "python3"
  },
  "language_info": {
   "codemirror_mode": {
    "name": "ipython",
    "version": 3
   },
   "file_extension": ".py",
   "mimetype": "text/x-python",
   "name": "python",
   "nbconvert_exporter": "python",
   "pygments_lexer": "ipython3",
   "version": "3.9.12"
  }
 },
 "nbformat": 4,
 "nbformat_minor": 5
}
