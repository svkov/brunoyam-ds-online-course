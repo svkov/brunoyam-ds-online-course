{
 "cells": [
  {
   "cell_type": "code",
   "execution_count": 1,
   "id": "19b33ad2-1d44-471f-9af9-c9d1fee0baaa",
   "metadata": {},
   "outputs": [],
   "source": [
    "from scipy.optimize import minimize\n",
    "import numpy as np\n",
    "import matplotlib.pyplot as plt"
   ]
  },
  {
   "cell_type": "code",
   "execution_count": 7,
   "id": "e89501f4-0371-41b6-885f-5cb9d9c9e1dd",
   "metadata": {},
   "outputs": [],
   "source": [
    "plt.rcParams['axes.facecolor'] = 'white'\n",
    "plt.rcParams['figure.facecolor'] = 'white'"
   ]
  },
  {
   "cell_type": "code",
   "execution_count": 2,
   "id": "4dfe0618-3034-4044-b6f9-af80dfd8b55c",
   "metadata": {},
   "outputs": [
    {
     "data": {
      "text/plain": [
       "      fun: 3.913415462088931e-12\n",
       " hess_inv: array([[ 0.96226406, -0.13207561],\n",
       "       [-0.13207561,  0.53773597]])\n",
       "      jac: array([ 3.57147867e-06, -1.71842462e-06])\n",
       "  message: 'Optimization terminated successfully.'\n",
       "     nfev: 12\n",
       "      nit: 3\n",
       "     njev: 4\n",
       "   status: 0\n",
       "  success: True\n",
       "        x: array([ 3.00000178, -5.00000087])"
      ]
     },
     "execution_count": 2,
     "metadata": {},
     "output_type": "execute_result"
    }
   ],
   "source": [
    "def f(x, y):\n",
    "    return (x-3) ** 2 + (y + 5) ** 2\n",
    "\n",
    "minimize(lambda x: f(x[0], x[1]), (5, 2))"
   ]
  },
  {
   "cell_type": "code",
   "execution_count": 20,
   "id": "227492e1-6894-46a0-a0d6-9e8c7d99f969",
   "metadata": {},
   "outputs": [
    {
     "data": {
      "image/png": "[encoded data removed]",
      "text/plain": [
       "<Figure size 432x288 with 1 Axes>"
      ]
     },
     "metadata": {},
     "output_type": "display_data"
    }
   ],
   "source": [
    "x, y = np.mgrid[-30:30:0.1,\n",
    "                -30:30:0.1]\n",
    "z = f(x, y)\n",
    "\n",
    "color_region = np.zeros((12, 3))\n",
    "color_region[:, 1:] = 0.2\n",
    "color_region[:, 0] = np.linspace(0, 1, 12)\n",
    "\n",
    "plt.contourf(z, levels=10)\n",
    "\n",
    "plt.savefig('../images/module_7_hw.png')"
   ]
  },
  {
   "cell_type": "code",
   "execution_count": null,
   "id": "18dbb8d5-0c62-47bb-a2f8-ca8c885e8909",
   "metadata": {},
   "outputs": [],
   "source": []
  }
 ],
 "metadata": {
  "kernelspec": {
   "display_name": "Python 3 (ipykernel)",
   "language": "python",
   "name": "python3"
  },
  "language_info": {
   "codemirror_mode": {
    "name": "ipython",
    "version": 3
   },
   "file_extension": ".py",
   "mimetype": "text/x-python",
   "name": "python",
   "nbconvert_exporter": "python",
   "pygments_lexer": "ipython3",
   "version": "3.9.7"
  }
 },
 "nbformat": 4,
 "nbformat_minor": 5
}
