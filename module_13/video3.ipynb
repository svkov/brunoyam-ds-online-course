{
 "cells": [
  {
   "cell_type": "code",
   "execution_count": 1,
   "id": "cdb00dd8-0bd2-48b7-80df-cbb2cdc0e9f9",
   "metadata": {},
   "outputs": [],
   "source": [
    "import numpy as np\n",
    "import pandas as pd\n",
    "import matplotlib.pyplot as plt\n",
    "\n",
    "from sktime.classification.distance_based import KNeighborsTimeSeriesClassifier\n",
    "from sktime.classification.dictionary_based import IndividualBOSS\n",
    "from sktime.classification.interval_based import TimeSeriesForestClassifier\n",
    "from sktime.classification.dictionary_based import MUSE\n",
    "from sktime.transformations.panel.compose import ColumnConcatenator\n",
    "from sktime.classification.compose import ColumnEnsembleClassifier\n",
    "from sktime.classification.dictionary_based import BOSSEnsemble\n",
    "\n",
    "from sklearn.model_selection import train_test_split\n",
    "from sklearn.pipeline import Pipeline\n",
    "from sklearn.metrics import accuracy_score, confusion_matrix, precision_score, recall_score, f1_score"
   ]
  },
  {
   "cell_type": "markdown",
   "id": "a5fdf1b7-c46a-403f-892b-17bbec7a9cc7",
   "metadata": {},
   "source": [
    "# Видео 3\n",
    "https://www.kaggle.com/datasets/shebrahimi/financial-distress"
   ]
  },
  {
   "cell_type": "code",
   "execution_count": 2,
   "id": "5fd46a07-cf40-44d9-9d53-4c5052a2594e",
   "metadata": {},
   "outputs": [],
   "source": [
    "def load_data(path, step=5):\n",
    "    df = pd.read_csv(path)\n",
    "    \n",
    "    # Определяем таргет для задачи классификации по условию из описания датасета\n",
    "    df['isDisstress'] = df['Financial Distress'].apply(lambda x: int(x < -0.5))\n",
    "    # Делим датасет на x и y\n",
    "    x = df.drop(['Financial Distress', 'isDisstress'], axis=1)\n",
    "    x_values = x.iloc[:, 2:]\n",
    "    x_values = (x_values - x_values.mean()) / x_values.std()\n",
    "    x.iloc[:, 2:] = x_values\n",
    "\n",
    "    # Таргет - находится ли компания в состоянии кризиса в последней точке\n",
    "    y = df[['Company', 'Time', 'isDisstress']]\n",
    "    y = y.groupby('Company')['isDisstress'].last()\n",
    "    \n",
    "    # Преобразуем датасет в формат sktime\n",
    "    # По итогу должен получиться датафрейм, в котором в строках записаны компании, в колонках признаки, а в ячейках pd.Series\n",
    "    # Причем все ряды должны быть одинаковой длины, будем брать только компании с 5 и более периодами, и будем брать последние 5 наблюдений\n",
    "    df_ts = pd.DataFrame()\n",
    "    real_y = {}\n",
    "    for i, group in x.groupby('Company'):\n",
    "        group = group.drop(['Company', 'Time'], axis=1)\n",
    "        \n",
    "        # Не рассматриваем компании с маленькой историей\n",
    "        if len(group) < step:\n",
    "            continue\n",
    "        \n",
    "        # Конвертируем в нужный формат\n",
    "        case = {}\n",
    "        for col in group.columns:\n",
    "            cell = group[col][-step:].reset_index(drop=True)\n",
    "            case[col] = [cell]\n",
    "        \n",
    "        # Добавляем новую компанию в датасет\n",
    "        case = pd.DataFrame(case)\n",
    "        df_ts = pd.concat([df_ts, case])\n",
    "\n",
    "        # Не забываем формировать таргет только из нужных компаний\n",
    "        real_y[i] = y.loc[i]\n",
    "    df_ts.reset_index(drop=True, inplace=True)\n",
    "    real_y = pd.Series(real_y)\n",
    "    return df_ts, real_y"
   ]
  },
  {
   "cell_type": "code",
   "execution_count": 3,
   "id": "98d59038-9db2-4242-a4cb-200bf9a3b079",
   "metadata": {
    "tags": []
   },
   "outputs": [],
   "source": [
    "x, y = load_data('data/Financial Distress.csv', step=10)"
   ]
  },
  {
   "cell_type": "code",
   "execution_count": 4,
   "id": "a47e57c0-4215-4c15-b28c-ac4c67a78c5b",
   "metadata": {},
   "outputs": [
    {
     "data": {
      "text/plain": [
       "((145, 83), (63, 83))"
      ]
     },
     "execution_count": 4,
     "metadata": {},
     "output_type": "execute_result"
    }
   ],
   "source": [
    "x_train, x_test, y_train, y_test = train_test_split(x, y, test_size=0.3, random_state=1)\n",
    "x_train.shape, x_test.shape"
   ]
  },
  {
   "cell_type": "code",
   "execution_count": 5,
   "id": "d4cda09f-c0ae-4812-9122-5bc9ea064f2e",
   "metadata": {},
   "outputs": [],
   "source": [
    "concat_steps = [\n",
    "    (\"concatenate\", ColumnConcatenator()),\n",
    "    (\"classify\", TimeSeriesForestClassifier(n_estimators=100)),\n",
    "]\n",
    "concat_pipeline_tsf = Pipeline(concat_steps)"
   ]
  },
  {
   "cell_type": "code",
   "execution_count": 6,
   "id": "d767c207-d901-4afa-8f2f-77ca817e7623",
   "metadata": {},
   "outputs": [],
   "source": [
    "column_ensemble = ColumnEnsembleClassifier(\n",
    "    estimators=[\n",
    "        (\"TSF0\", TimeSeriesForestClassifier(n_estimators=100), [0]),\n",
    "        (\"BOSSEnsemble3\", BOSSEnsemble(max_ensemble_size=5), [3]),\n",
    "    ]\n",
    ")"
   ]
  },
  {
   "cell_type": "code",
   "execution_count": 7,
   "id": "db06036a-cb8a-4e2b-ba19-aabce6fabf49",
   "metadata": {},
   "outputs": [],
   "source": [
    "concat_steps = [\n",
    "    (\"concatenate\", ColumnConcatenator()),\n",
    "    (\"classify\", IndividualBOSS(window_size=5)),\n",
    "]\n",
    "concat_pipeline_boss = Pipeline(concat_steps)"
   ]
  },
  {
   "cell_type": "code",
   "execution_count": 8,
   "id": "99738ca5-bfdc-40f1-9e37-77271846c66e",
   "metadata": {},
   "outputs": [
    {
     "name": "stdout",
     "output_type": "stream",
     "text": [
      "CPU times: total: 42.8 s\n",
      "Wall time: 42.9 s\n"
     ]
    }
   ],
   "source": [
    "%%time\n",
    "\n",
    "models = [\n",
    "    KNeighborsTimeSeriesClassifier(),\n",
    "    concat_pipeline_tsf,\n",
    "    column_ensemble,\n",
    "    concat_pipeline_boss,\n",
    "    MUSE(),\n",
    "]\n",
    "names = [\n",
    "    'kNN',\n",
    "    'concat pipeline tsf',\n",
    "    'column ensemble',\n",
    "    'concat pipeline boss',\n",
    "    'MUSE'\n",
    "]\n",
    "result = {}\n",
    "for model, name in zip(models, names):\n",
    "    model.fit(x_train, y_train)\n",
    "    pred = model.predict(x_test)\n",
    "    model_name = name\n",
    "    error_number = len(y_test[pred != y_test])\n",
    "    accuracy = accuracy_score(y_test, pred)\n",
    "    precision = precision_score(y_test, pred)\n",
    "    recall = recall_score(y_test, pred)\n",
    "    f1 = f1_score(y_test, pred)\n",
    "    conf_mat = confusion_matrix(y_test, pred)\n",
    "    res_ = {\n",
    "        'error_number': error_number,\n",
    "        'accuracy': accuracy,\n",
    "        'precision': precision,\n",
    "        'recall': recall,\n",
    "        'f1': f1,\n",
    "        'confusion_matrix': conf_mat\n",
    "    }\n",
    "    result[model_name] = res_"
   ]
  },
  {
   "cell_type": "code",
   "execution_count": 9,
   "id": "266fbea5-c666-4f76-9c91-b7e22bcc75a5",
   "metadata": {},
   "outputs": [
    {
     "data": {
      "text/html": [
       "<div>\n",
       "<style scoped>\n",
       "    .dataframe tbody tr th:only-of-type {\n",
       "        vertical-align: middle;\n",
       "    }\n",
       "\n",
       "    .dataframe tbody tr th {\n",
       "        vertical-align: top;\n",
       "    }\n",
       "\n",
       "    .dataframe thead th {\n",
       "        text-align: right;\n",
       "    }\n",
       "</style>\n",
       "<table border=\"1\" class=\"dataframe\">\n",
       "  <thead>\n",
       "    <tr style=\"text-align: right;\">\n",
       "      <th></th>\n",
       "      <th>kNN</th>\n",
       "      <th>concat pipeline tsf</th>\n",
       "      <th>column ensemble</th>\n",
       "      <th>concat pipeline boss</th>\n",
       "      <th>MUSE</th>\n",
       "    </tr>\n",
       "  </thead>\n",
       "  <tbody>\n",
       "    <tr>\n",
       "      <th>error_number</th>\n",
       "      <td>7</td>\n",
       "      <td>8</td>\n",
       "      <td>11</td>\n",
       "      <td>8</td>\n",
       "      <td>8</td>\n",
       "    </tr>\n",
       "    <tr>\n",
       "      <th>accuracy</th>\n",
       "      <td>0.888889</td>\n",
       "      <td>0.873016</td>\n",
       "      <td>0.825397</td>\n",
       "      <td>0.873016</td>\n",
       "      <td>0.873016</td>\n",
       "    </tr>\n",
       "    <tr>\n",
       "      <th>precision</th>\n",
       "      <td>0.75</td>\n",
       "      <td>1.0</td>\n",
       "      <td>0.0</td>\n",
       "      <td>0.666667</td>\n",
       "      <td>1.0</td>\n",
       "    </tr>\n",
       "    <tr>\n",
       "      <th>recall</th>\n",
       "      <td>0.333333</td>\n",
       "      <td>0.111111</td>\n",
       "      <td>0.0</td>\n",
       "      <td>0.222222</td>\n",
       "      <td>0.111111</td>\n",
       "    </tr>\n",
       "    <tr>\n",
       "      <th>f1</th>\n",
       "      <td>0.461538</td>\n",
       "      <td>0.2</td>\n",
       "      <td>0.0</td>\n",
       "      <td>0.333333</td>\n",
       "      <td>0.2</td>\n",
       "    </tr>\n",
       "    <tr>\n",
       "      <th>confusion_matrix</th>\n",
       "      <td>[[53, 1], [6, 3]]</td>\n",
       "      <td>[[54, 0], [8, 1]]</td>\n",
       "      <td>[[52, 2], [9, 0]]</td>\n",
       "      <td>[[53, 1], [7, 2]]</td>\n",
       "      <td>[[54, 0], [8, 1]]</td>\n",
       "    </tr>\n",
       "  </tbody>\n",
       "</table>\n",
       "</div>"
      ],
      "text/plain": [
       "                                kNN concat pipeline tsf    column ensemble  \\\n",
       "error_number                      7                   8                 11   \n",
       "accuracy                   0.888889            0.873016           0.825397   \n",
       "precision                      0.75                 1.0                0.0   \n",
       "recall                     0.333333            0.111111                0.0   \n",
       "f1                         0.461538                 0.2                0.0   \n",
       "confusion_matrix  [[53, 1], [6, 3]]   [[54, 0], [8, 1]]  [[52, 2], [9, 0]]   \n",
       "\n",
       "                 concat pipeline boss               MUSE  \n",
       "error_number                        8                  8  \n",
       "accuracy                     0.873016           0.873016  \n",
       "precision                    0.666667                1.0  \n",
       "recall                       0.222222           0.111111  \n",
       "f1                           0.333333                0.2  \n",
       "confusion_matrix    [[53, 1], [7, 2]]  [[54, 0], [8, 1]]  "
      ]
     },
     "execution_count": 9,
     "metadata": {},
     "output_type": "execute_result"
    }
   ],
   "source": [
    "pd.DataFrame(result)"
   ]
  },
  {
   "cell_type": "code",
   "execution_count": null,
   "id": "3600bbee-a5c7-4280-a0ad-5b2b066bd929",
   "metadata": {},
   "outputs": [],
   "source": []
  }
 ],
 "metadata": {
  "kernelspec": {
   "display_name": "Python 3 (ipykernel)",
   "language": "python",
   "name": "python3"
  },
  "language_info": {
   "codemirror_mode": {
    "name": "ipython",
    "version": 3
   },
   "file_extension": ".py",
   "mimetype": "text/x-python",
   "name": "python",
   "nbconvert_exporter": "python",
   "pygments_lexer": "ipython3",
   "version": "3.9.12"
  }
 },
 "nbformat": 4,
 "nbformat_minor": 5
}
