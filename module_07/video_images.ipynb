{
 "cells": [
  {
   "cell_type": "code",
   "execution_count": 2,
   "id": "72e95625-a068-4131-b5ac-a246fa66ed51",
   "metadata": {},
   "outputs": [],
   "source": [
    "import numpy as np\n",
    "import matplotlib.pyplot as plt\n",
    "from sklearn.linear_model import LinearRegression"
   ]
  },
  {
   "cell_type": "code",
   "execution_count": 7,
   "id": "e5121ffb-a47c-4632-935a-8d180b4792e4",
   "metadata": {},
   "outputs": [],
   "source": [
    "from matplotlib.colors import ListedColormap\n",
    "\n",
    "colors = {\n",
    "    'main': '#CFD923',\n",
    "    'second': '#EB5D18',\n",
    "    'extra': '#E0E0E0'\n",
    "}\n",
    "\n",
    "brunoyam_cmap = ListedColormap([colors['main'], colors['second'], colors['extra']])\n",
    "\n",
    "plt.rcParams.update({'font.family':'Closer'})\n",
    "plt.rcParams['axes.facecolor'] = 'white'\n",
    "plt.rcParams['figure.facecolor'] = 'white'"
   ]
  },
  {
   "cell_type": "code",
   "execution_count": 4,
   "id": "375648fa-a11b-488d-805e-ec51e395df41",
   "metadata": {},
   "outputs": [
    {
     "data": {
      "text/plain": [
       "(array([0.17142857]), 1.0000000000000027)"
      ]
     },
     "execution_count": 4,
     "metadata": {},
     "output_type": "execute_result"
    }
   ],
   "source": [
    "x = np.array([20, 40, 80]).reshape(-1, 1)\n",
    "y = np.array([5, 7, 15])\n",
    "\n",
    "model = LinearRegression()\n",
    "model.fit(x, y)\n",
    "model.coef_, model.intercept_"
   ]
  },
  {
   "cell_type": "code",
   "execution_count": 8,
   "id": "ea5d8fb9-29f7-4d56-ab50-d7b14e9b1399",
   "metadata": {},
   "outputs": [
    {
     "data": {
      "image/png": "[encoded data removed]",
      "text/plain": [
       "<Figure size 432x288 with 1 Axes>"
      ]
     },
     "metadata": {},
     "output_type": "display_data"
    }
   ],
   "source": [
    "plt.scatter(x, y, color=colors['second'])\n",
    "x_ = np.linspace(10, 100, 1000)\n",
    "y_ = model.predict(x_.reshape(-1, 1))\n",
    "plt.plot(x_, y_, color=colors['main'])\n",
    "plt.savefig('../images/lin_reg_manual.png')"
   ]
  },
  {
   "cell_type": "code",
   "execution_count": null,
   "id": "6c39fff2-8af0-4864-9c57-b81602beda3b",
   "metadata": {},
   "outputs": [],
   "source": []
  }
 ],
 "metadata": {
  "kernelspec": {
   "display_name": "Python 3 (ipykernel)",
   "language": "python",
   "name": "python3"
  },
  "language_info": {
   "codemirror_mode": {
    "name": "ipython",
    "version": 3
   },
   "file_extension": ".py",
   "mimetype": "text/x-python",
   "name": "python",
   "nbconvert_exporter": "python",
   "pygments_lexer": "ipython3",
   "version": "3.9.12"
  }
 },
 "nbformat": 4,
 "nbformat_minor": 5
}
