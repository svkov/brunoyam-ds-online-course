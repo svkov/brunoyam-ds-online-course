{
 "cells": [
  {
   "cell_type": "code",
   "execution_count": 36,
   "id": "39f6c2cd-0efd-4f7f-bb63-869e1f3e63ad",
   "metadata": {},
   "outputs": [],
   "source": [
    "import numpy as np\n",
    "import pandas as pd\n",
    "import matplotlib.pyplot as plt\n"
   ]
  },
  {
   "cell_type": "code",
   "execution_count": 37,
   "id": "b040e4d2-96df-44ba-a5bb-958925778c7e",
   "metadata": {},
   "outputs": [],
   "source": [
    "from matplotlib.colors import ListedColormap, LinearSegmentedColormap\n",
    "\n",
    "colors = {\n",
    "    'main': '#CFD923',\n",
    "    'second': '#EB5D18',\n",
    "    'extra': '#E0E0E0'\n",
    "}\n",
    "\n",
    "def inter_from_256(x):\n",
    "    return np.interp(x=x,xp=[0,255],fp=[0,1])\n",
    "\n",
    "cdict = {\n",
    "    'red': (\n",
    "            (0, inter_from_256(224), inter_from_256(224)),\n",
    "            (0.5, inter_from_256(207), inter_from_256(207)),\n",
    "            (1, inter_from_256(235), inter_from_256(235)),\n",
    "    ),\n",
    "    'green': (\n",
    "        (0, inter_from_256(224), inter_from_256(224)),\n",
    "        (0.5, inter_from_256(217), inter_from_256(217)),\n",
    "        (1, inter_from_256(93), inter_from_256(93)),\n",
    "    ),\n",
    "    'blue': (\n",
    "        (0, inter_from_256(224), inter_from_256(224)),\n",
    "        (0.5, inter_from_256(35), inter_from_256(35)),\n",
    "        (1, inter_from_256(24), inter_from_256(24)),\n",
    "        \n",
    "    ),\n",
    "           \n",
    "}\n",
    "\n",
    "brunoyam_cmap = LinearSegmentedColormap('brunoyam_cmap', segmentdata=cdict)\n",
    "\n",
    "plt.rcParams.update({'font.family':'Closer'})\n",
    "plt.rcParams['axes.facecolor'] = 'white'\n",
    "plt.rcParams['figure.facecolor'] = 'white'"
   ]
  },
  {
   "cell_type": "code",
   "execution_count": 38,
   "id": "47068909-3e29-4648-a8a6-8b2edfb54143",
   "metadata": {},
   "outputs": [],
   "source": [
    "def plot_examples(cms):\n",
    "    \"\"\"\n",
    "    helper function to plot two colormaps\n",
    "    \"\"\"\n",
    "    np.random.seed(19680801)\n",
    "    data = np.random.randn(30, 30)\n",
    "\n",
    "    fig, axs = plt.subplots(1, 2, figsize=(6, 3), constrained_layout=True)\n",
    "    for [ax, cmap] in zip(axs, cms):\n",
    "        psm = ax.pcolormesh(data, cmap=cmap, rasterized=True, vmin=-4, vmax=4)\n",
    "        fig.colorbar(psm, ax=ax)\n",
    "    plt.show()"
   ]
  },
  {
   "cell_type": "code",
   "execution_count": 39,
   "id": "f27ce916-427c-4fed-ae9b-cf81194b4e01",
   "metadata": {},
   "outputs": [
    {
     "data": {
      "image/png": "[encoded data removed]",
      "text/plain": [
       "<Figure size 432x216 with 3 Axes>"
      ]
     },
     "metadata": {},
     "output_type": "display_data"
    }
   ],
   "source": [
    "plot_examples([brunoyam_cmap])"
   ]
  },
  {
   "cell_type": "code",
   "execution_count": null,
   "id": "02ae7742-6d48-4753-af91-cd3c7b56e0ba",
   "metadata": {},
   "outputs": [],
   "source": []
  }
 ],
 "metadata": {
  "kernelspec": {
   "display_name": "Python 3 (ipykernel)",
   "language": "python",
   "name": "python3"
  },
  "language_info": {
   "codemirror_mode": {
    "name": "ipython",
    "version": 3
   },
   "file_extension": ".py",
   "mimetype": "text/x-python",
   "name": "python",
   "nbconvert_exporter": "python",
   "pygments_lexer": "ipython3",
   "version": "3.9.12"
  }
 },
 "nbformat": 4,
 "nbformat_minor": 5
}
