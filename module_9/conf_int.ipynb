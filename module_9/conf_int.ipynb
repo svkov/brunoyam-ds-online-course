{
 "cells": [
  {
   "cell_type": "code",
   "execution_count": 2,
   "id": "72374fe6-7315-4af5-9296-decbf475f153",
   "metadata": {},
   "outputs": [],
   "source": [
    "import scipy.stats as stats\n",
    "import numpy as np"
   ]
  },
  {
   "cell_type": "code",
   "execution_count": 6,
   "id": "51bb0116-0762-483d-b788-e67bf3939e4a",
   "metadata": {},
   "outputs": [
    {
     "data": {
      "text/plain": [
       "(80.40036015459947, 119.59963984540053)"
      ]
     },
     "execution_count": 6,
     "metadata": {},
     "output_type": "execute_result"
    }
   ],
   "source": [
    "alpha = 0.95\n",
    "loc = 100\n",
    "std = 10\n",
    "\n",
    "stats.norm.interval(alpha, loc=loc, scale=std)"
   ]
  },
  {
   "cell_type": "code",
   "execution_count": 36,
   "id": "4d109efd-a43c-4383-ac11-4b161b1a363c",
   "metadata": {},
   "outputs": [
    {
     "data": {
      "text/plain": [
       "(96.42161171256569, 103.57838828743431)"
      ]
     },
     "execution_count": 36,
     "metadata": {},
     "output_type": "execute_result"
    }
   ],
   "source": [
    "n = 30\n",
    "\n",
    "stats.norm.interval(alpha, loc=loc, scale=std / np.sqrt(30))"
   ]
  },
  {
   "cell_type": "code",
   "execution_count": 91,
   "id": "b0924ebe-f375-4ff0-a42d-a2013b4257ee",
   "metadata": {},
   "outputs": [],
   "source": [
    "sample = np.random.normal(loc=loc, scale=std, size=n)"
   ]
  },
  {
   "cell_type": "code",
   "execution_count": 92,
   "id": "4d761925-bdb0-47d4-ba72-261b0d91db09",
   "metadata": {},
   "outputs": [
    {
     "data": {
      "text/plain": [
       "(96.98723221037446, 104.17125546364389)"
      ]
     },
     "execution_count": 92,
     "metadata": {},
     "output_type": "execute_result"
    }
   ],
   "source": [
    "stats.t.interval(alpha, n - 1, loc=sample.mean(), scale=sample.std() / np.sqrt(n))"
   ]
  },
  {
   "cell_type": "code",
   "execution_count": 114,
   "id": "9af82a7d-5539-4524-8a66-1fc2b39f1b38",
   "metadata": {},
   "outputs": [
    {
     "data": {
      "text/plain": [
       "56"
      ]
     },
     "execution_count": 114,
     "metadata": {},
     "output_type": "execute_result"
    }
   ],
   "source": [
    "error = 0\n",
    "for i in range(1000):\n",
    "    sample = np.random.normal(loc=loc, scale=std, size=n)\n",
    "    a, b = stats.t.interval(alpha, n - 1, loc=sample.mean(), scale=sample.std() / np.sqrt(n))\n",
    "    if a > loc or b < loc:\n",
    "        error += 1\n",
    "error"
   ]
  }
 ],
 "metadata": {
  "kernelspec": {
   "display_name": "Python 3 (ipykernel)",
   "language": "python",
   "name": "python3"
  },
  "language_info": {
   "codemirror_mode": {
    "name": "ipython",
    "version": 3
   },
   "file_extension": ".py",
   "mimetype": "text/x-python",
   "name": "python",
   "nbconvert_exporter": "python",
   "pygments_lexer": "ipython3",
   "version": "3.9.7"
  }
 },
 "nbformat": 4,
 "nbformat_minor": 5
}
