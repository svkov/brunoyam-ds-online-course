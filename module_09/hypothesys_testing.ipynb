{
 "cells": [
  {
   "cell_type": "code",
   "execution_count": 1,
   "id": "6d0d2c98-0466-4004-913f-9791d0f1ec91",
   "metadata": {},
   "outputs": [],
   "source": [
    "import numpy as np\n",
    "import matplotlib.pyplot as plt\n",
    "import scipy.stats as stats"
   ]
  },
  {
   "cell_type": "code",
   "execution_count": 7,
   "id": "4ed25b6f-e347-417c-8257-2d2de2ce54ec",
   "metadata": {},
   "outputs": [],
   "source": [
    "p1 = 0.2\n",
    "p2 = 0.21\n",
    "n = 100000\n",
    "binom1 = np.random.binomial(n, p1)\n",
    "sample1 = np.array([1 for _ in range(binom1)] + [0 for _ in range(n - binom1)])\n",
    "binom2 = np.random.binomial(n, p2)\n",
    "sample2 = np.array([1 for _ in range(binom2)] + [0 for _ in range(n - binom2)])"
   ]
  },
  {
   "cell_type": "code",
   "execution_count": 8,
   "id": "8400e6ee-708f-4974-bda0-1abb205f3dae",
   "metadata": {},
   "outputs": [
    {
     "data": {
      "text/plain": [
       "(array([80121.,     0.,     0.,     0.,     0.,     0.,     0.,     0.,\n",
       "            0., 19879.]),\n",
       " array([0. , 0.1, 0.2, 0.3, 0.4, 0.5, 0.6, 0.7, 0.8, 0.9, 1. ]),\n",
       " <BarContainer object of 10 artists>)"
      ]
     },
     "execution_count": 8,
     "metadata": {},
     "output_type": "execute_result"
    },
    {
     "data": {
      "image/png": "[encoded data removed]",
      "text/plain": [
       "<Figure size 432x288 with 1 Axes>"
      ]
     },
     "metadata": {
      "needs_background": "light"
     },
     "output_type": "display_data"
    }
   ],
   "source": [
    "plt.hist(sample1)"
   ]
  },
  {
   "cell_type": "code",
   "execution_count": 9,
   "id": "3d2a0fef-ac12-4ecf-a20b-ba85cdb8fbe4",
   "metadata": {},
   "outputs": [
    {
     "data": {
      "text/plain": [
       "(array([79006.,     0.,     0.,     0.,     0.,     0.,     0.,     0.,\n",
       "            0., 20994.]),\n",
       " array([0. , 0.1, 0.2, 0.3, 0.4, 0.5, 0.6, 0.7, 0.8, 0.9, 1. ]),\n",
       " <BarContainer object of 10 artists>)"
      ]
     },
     "execution_count": 9,
     "metadata": {},
     "output_type": "execute_result"
    },
    {
     "data": {
      "image/png": "[encoded data removed]",
      "text/plain": [
       "<Figure size 432x288 with 1 Axes>"
      ]
     },
     "metadata": {
      "needs_background": "light"
     },
     "output_type": "display_data"
    }
   ],
   "source": [
    "plt.hist(sample2)"
   ]
  },
  {
   "cell_type": "code",
   "execution_count": 10,
   "id": "d28c38b5-a1eb-48f8-b52f-1e073e9c3917",
   "metadata": {},
   "outputs": [
    {
     "data": {
      "text/plain": [
       "MannwhitneyuResult(statistic=4944250000.0, pvalue=6.289849444882532e-10)"
      ]
     },
     "execution_count": 10,
     "metadata": {},
     "output_type": "execute_result"
    }
   ],
   "source": [
    "stats.mannwhitneyu(sample1, sample2)"
   ]
  },
  {
   "cell_type": "code",
   "execution_count": 11,
   "id": "1df20316-987a-467b-a985-1a778d07586d",
   "metadata": {},
   "outputs": [
    {
     "data": {
      "text/plain": [
       "Ttest_indResult(statistic=-6.183566130111848, pvalue=6.279002108429317e-10)"
      ]
     },
     "execution_count": 11,
     "metadata": {},
     "output_type": "execute_result"
    }
   ],
   "source": [
    "stats.ttest_ind(sample1, sample2)"
   ]
  },
  {
   "cell_type": "code",
   "execution_count": null,
   "id": "69756374-8c9c-47d3-8e1f-c560afd255ce",
   "metadata": {},
   "outputs": [],
   "source": []
  },
  {
   "cell_type": "code",
   "execution_count": null,
   "id": "e0354f96-3a9d-41f2-8a5f-87578715cd4b",
   "metadata": {},
   "outputs": [],
   "source": []
  },
  {
   "cell_type": "code",
   "execution_count": null,
   "id": "3a3e981d-d36d-48e8-8e6f-35ff16cd97bd",
   "metadata": {},
   "outputs": [],
   "source": []
  },
  {
   "cell_type": "code",
   "execution_count": null,
   "id": "8df3a0a9-1f17-48ec-9ea6-56c513eef48f",
   "metadata": {},
   "outputs": [],
   "source": []
  },
  {
   "cell_type": "code",
   "execution_count": null,
   "id": "a73c4783-1fc2-49dd-b0c2-84d6c0181a2d",
   "metadata": {},
   "outputs": [],
   "source": []
  },
  {
   "cell_type": "code",
   "execution_count": null,
   "id": "f818d32e-a7a6-4970-a150-659b6dbb04d1",
   "metadata": {},
   "outputs": [],
   "source": []
  },
  {
   "cell_type": "code",
   "execution_count": null,
   "id": "a00dc5fe-10b9-4934-a67c-52af22c9ef51",
   "metadata": {},
   "outputs": [],
   "source": []
  },
  {
   "cell_type": "code",
   "execution_count": null,
   "id": "a3e0c669-3783-4fb5-8f7a-4f8140ee0e23",
   "metadata": {},
   "outputs": [],
   "source": []
  },
  {
   "cell_type": "code",
   "execution_count": null,
   "id": "540b2e0a-3b7e-48ee-9760-607447e8b66d",
   "metadata": {},
   "outputs": [],
   "source": []
  },
  {
   "cell_type": "code",
   "execution_count": 12,
   "id": "50ce0e06-74b9-46c8-b4e1-e7f98aceedc7",
   "metadata": {},
   "outputs": [],
   "source": [
    "p1 = 0.2\n",
    "p2 = 0.21\n",
    "n = 25117"
   ]
  },
  {
   "cell_type": "code",
   "execution_count": 13,
   "id": "464ee854-a224-45f7-8c84-158f10435ca7",
   "metadata": {},
   "outputs": [],
   "source": [
    "good_result = 0\n",
    "for i in range(1000):\n",
    "    binom1 = np.random.binomial(n, p1)\n",
    "    sample1 = np.array([1 for _ in range(binom1)] + [0 for _ in range(n - binom1)])\n",
    "    binom2 = np.random.binomial(n, p2)\n",
    "    sample2 = np.array([1 for _ in range(binom2)] + [0 for _ in range(n - binom2)])\n",
    "    if stats.mannwhitneyu(sample1, sample2).pvalue < 0.05:\n",
    "        good_result += 1"
   ]
  },
  {
   "cell_type": "code",
   "execution_count": 14,
   "id": "ad874a3d-4c35-432c-855b-b6eb397a1b6d",
   "metadata": {},
   "outputs": [
    {
     "data": {
      "text/plain": [
       "789"
      ]
     },
     "execution_count": 14,
     "metadata": {},
     "output_type": "execute_result"
    }
   ],
   "source": [
    "good_result"
   ]
  },
  {
   "cell_type": "code",
   "execution_count": null,
   "id": "a164f9f7-285d-44bc-84f6-030a3e949871",
   "metadata": {},
   "outputs": [],
   "source": []
  }
 ],
 "metadata": {
  "kernelspec": {
   "display_name": "Python 3 (ipykernel)",
   "language": "python",
   "name": "python3"
  },
  "language_info": {
   "codemirror_mode": {
    "name": "ipython",
    "version": 3
   },
   "file_extension": ".py",
   "mimetype": "text/x-python",
   "name": "python",
   "nbconvert_exporter": "python",
   "pygments_lexer": "ipython3",
   "version": "3.9.12"
  }
 },
 "nbformat": 4,
 "nbformat_minor": 5
}
