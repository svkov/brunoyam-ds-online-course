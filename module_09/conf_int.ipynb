{
 "cells": [
  {
   "cell_type": "code",
   "execution_count": 1,
   "id": "72374fe6-7315-4af5-9296-decbf475f153",
   "metadata": {},
   "outputs": [],
   "source": [
    "import scipy.stats as stats\n",
    "import numpy as np"
   ]
  },
  {
   "cell_type": "code",
   "execution_count": 3,
   "id": "51bb0116-0762-483d-b788-e67bf3939e4a",
   "metadata": {},
   "outputs": [
    {
     "data": {
      "text/plain": [
       "(80.40036015459947, 119.59963984540053)"
      ]
     },
     "execution_count": 3,
     "metadata": {},
     "output_type": "execute_result"
    }
   ],
   "source": [
    "alpha = 0.95\n",
    "loc = 100\n",
    "std = 10\n",
    "\n",
    "stats.norm.interval(alpha, loc=loc, scale=std)"
   ]
  },
  {
   "cell_type": "code",
   "execution_count": 5,
   "id": "4d109efd-a43c-4383-ac11-4b161b1a363c",
   "metadata": {},
   "outputs": [
    {
     "data": {
      "text/plain": [
       "(93.80204967695438, 106.19795032304562)"
      ]
     },
     "execution_count": 5,
     "metadata": {},
     "output_type": "execute_result"
    }
   ],
   "source": [
    "n = 10\n",
    "\n",
    "stats.norm.interval(alpha, loc=loc, scale=std / np.sqrt(n))"
   ]
  },
  {
   "cell_type": "code",
   "execution_count": 6,
   "id": "b0924ebe-f375-4ff0-a42d-a2013b4257ee",
   "metadata": {},
   "outputs": [],
   "source": [
    "sample = np.random.normal(loc=loc, scale=std, size=n)"
   ]
  },
  {
   "cell_type": "code",
   "execution_count": 7,
   "id": "4d761925-bdb0-47d4-ba72-261b0d91db09",
   "metadata": {},
   "outputs": [
    {
     "data": {
      "text/plain": [
       "(95.95978896888356, 105.16135118220144)"
      ]
     },
     "execution_count": 7,
     "metadata": {},
     "output_type": "execute_result"
    }
   ],
   "source": [
    "stats.t.interval(alpha, n - 1, loc=sample.mean(), scale=sample.std() / np.sqrt(n))"
   ]
  },
  {
   "cell_type": "code",
   "execution_count": null,
   "id": "bbfaff8e-5398-4d53-a276-920385836b03",
   "metadata": {},
   "outputs": [],
   "source": []
  },
  {
   "cell_type": "code",
   "execution_count": null,
   "id": "276d1e91-c76b-43a2-b38a-2145465048d2",
   "metadata": {},
   "outputs": [],
   "source": []
  },
  {
   "cell_type": "code",
   "execution_count": null,
   "id": "bc695a65-9233-4a97-a24c-fde0e853b18e",
   "metadata": {},
   "outputs": [],
   "source": []
  },
  {
   "cell_type": "code",
   "execution_count": null,
   "id": "66996cfe-031d-4c87-b524-d37566eb51ce",
   "metadata": {},
   "outputs": [],
   "source": []
  },
  {
   "cell_type": "code",
   "execution_count": null,
   "id": "2bf076b5-4c0f-46c7-a6c1-1d6310e7681f",
   "metadata": {},
   "outputs": [],
   "source": []
  },
  {
   "cell_type": "code",
   "execution_count": null,
   "id": "4ff4fb82-7c20-444a-b5c0-f13fd7939301",
   "metadata": {},
   "outputs": [],
   "source": []
  },
  {
   "cell_type": "code",
   "execution_count": null,
   "id": "f9c96937-de3b-4363-af87-5a3e0aac7ca3",
   "metadata": {},
   "outputs": [],
   "source": []
  },
  {
   "cell_type": "code",
   "execution_count": null,
   "id": "d8712330-4425-4cc8-afef-5cd2a7275316",
   "metadata": {},
   "outputs": [],
   "source": []
  },
  {
   "cell_type": "code",
   "execution_count": null,
   "id": "78ee664f-47f6-495c-9480-aafd525d2177",
   "metadata": {},
   "outputs": [],
   "source": []
  },
  {
   "cell_type": "code",
   "execution_count": null,
   "id": "b641f740-9df3-4b43-8b47-b59ef62d71bf",
   "metadata": {},
   "outputs": [],
   "source": []
  },
  {
   "cell_type": "code",
   "execution_count": 8,
   "id": "9af82a7d-5539-4524-8a66-1fc2b39f1b38",
   "metadata": {},
   "outputs": [
    {
     "data": {
      "text/plain": [
       "61"
      ]
     },
     "execution_count": 8,
     "metadata": {},
     "output_type": "execute_result"
    }
   ],
   "source": [
    "error = 0\n",
    "for i in range(1000):\n",
    "    sample = np.random.normal(loc=loc, scale=std, size=n)\n",
    "    a, b = stats.t.interval(alpha, n - 1, loc=sample.mean(), scale=sample.std() / np.sqrt(n))\n",
    "    if a > loc or b < loc:\n",
    "        error += 1\n",
    "error"
   ]
  }
 ],
 "metadata": {
  "kernelspec": {
   "display_name": "Python 3 (ipykernel)",
   "language": "python",
   "name": "python3"
  },
  "language_info": {
   "codemirror_mode": {
    "name": "ipython",
    "version": 3
   },
   "file_extension": ".py",
   "mimetype": "text/x-python",
   "name": "python",
   "nbconvert_exporter": "python",
   "pygments_lexer": "ipython3",
   "version": "3.9.12"
  }
 },
 "nbformat": 4,
 "nbformat_minor": 5
}
