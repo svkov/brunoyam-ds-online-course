{
 "cells": [
  {
   "cell_type": "code",
   "execution_count": 1,
   "id": "5f55eef2-bcb9-4bb4-8735-7332bdb9ad40",
   "metadata": {},
   "outputs": [],
   "source": [
    "import numpy as np\n",
    "import pandas as pd\n",
    "import matplotlib.pyplot as plt"
   ]
  },
  {
   "cell_type": "markdown",
   "id": "fd26813d-8975-4225-ac74-75b7accd463d",
   "metadata": {},
   "source": [
    "# Закон больших чисел"
   ]
  },
  {
   "cell_type": "code",
   "execution_count": 2,
   "id": "b3b21156-36d0-40b7-b4fe-245eaf62dfd4",
   "metadata": {},
   "outputs": [
    {
     "name": "stdout",
     "output_type": "stream",
     "text": [
      "0.19396383520943417\n",
      "0.9510224096798758\n",
      "0.08417044738217605\n",
      "-0.12220422453625446\n"
     ]
    },
    {
     "data": {
      "image/png": "[encoded data removed]",
      "text/plain": [
       "<Figure size 432x288 with 1 Axes>"
      ]
     },
     "metadata": {
      "needs_background": "light"
     },
     "output_type": "display_data"
    },
    {
     "data": {
      "image/png": "[encoded data removed]",
      "text/plain": [
       "<Figure size 432x288 with 1 Axes>"
      ]
     },
     "metadata": {
      "needs_background": "light"
     },
     "output_type": "display_data"
    },
    {
     "data": {
      "image/png": "[encoded data removed]",
      "text/plain": [
       "<Figure size 432x288 with 1 Axes>"
      ]
     },
     "metadata": {
      "needs_background": "light"
     },
     "output_type": "display_data"
    },
    {
     "data": {
      "image/png": "[encoded data removed]",
      "text/plain": [
       "<Figure size 432x288 with 1 Axes>"
      ]
     },
     "metadata": {
      "needs_background": "light"
     },
     "output_type": "display_data"
    }
   ],
   "source": [
    "mu = 10\n",
    "for n in [10, 100, 1000, 10000]:\n",
    "    sample = np.random.normal(mu, 10, size=n)\n",
    "    print(sample.mean() - mu)\n",
    "    plt.figure()\n",
    "    plt.hist(sample)"
   ]
  },
  {
   "cell_type": "code",
   "execution_count": null,
   "id": "76ef47cf-c59d-4642-ab93-90bf15f14bcf",
   "metadata": {},
   "outputs": [],
   "source": []
  },
  {
   "cell_type": "code",
   "execution_count": null,
   "id": "606ee548-0216-4376-a265-aa379a512526",
   "metadata": {},
   "outputs": [],
   "source": []
  },
  {
   "cell_type": "code",
   "execution_count": null,
   "id": "459cb8e8-a1c6-4a31-b8a2-4334541de999",
   "metadata": {},
   "outputs": [],
   "source": []
  },
  {
   "cell_type": "code",
   "execution_count": null,
   "id": "67297398-7b6c-4c27-97d9-4dffc0919ec5",
   "metadata": {},
   "outputs": [],
   "source": []
  },
  {
   "cell_type": "code",
   "execution_count": null,
   "id": "908db8df-a5f2-4b54-94ee-53c600b3b4e1",
   "metadata": {},
   "outputs": [],
   "source": []
  },
  {
   "cell_type": "code",
   "execution_count": null,
   "id": "d43d7f0b-eba3-46b3-b228-da7645e50109",
   "metadata": {},
   "outputs": [],
   "source": []
  },
  {
   "cell_type": "code",
   "execution_count": null,
   "id": "6a78b18f-28e7-444f-860b-c0f448998c29",
   "metadata": {},
   "outputs": [],
   "source": []
  },
  {
   "cell_type": "code",
   "execution_count": null,
   "id": "d877370e-95a6-42b4-abdf-8291f7f57043",
   "metadata": {},
   "outputs": [],
   "source": []
  },
  {
   "cell_type": "code",
   "execution_count": null,
   "id": "d58092d0-b767-4eaf-b8f3-403b021a7f6f",
   "metadata": {},
   "outputs": [],
   "source": []
  },
  {
   "cell_type": "code",
   "execution_count": null,
   "id": "5eaed6b5-0d82-40ad-8144-4f47834a69b3",
   "metadata": {},
   "outputs": [],
   "source": []
  },
  {
   "cell_type": "code",
   "execution_count": null,
   "id": "1db5ff8e-1318-405d-9e0d-845e56ec25ec",
   "metadata": {},
   "outputs": [],
   "source": []
  },
  {
   "cell_type": "code",
   "execution_count": null,
   "id": "5aca483f-7d6b-402d-a6ee-d0a3e769025b",
   "metadata": {},
   "outputs": [],
   "source": []
  },
  {
   "cell_type": "markdown",
   "id": "282e84ad-766b-4e79-8274-f5eb0f2e4b26",
   "metadata": {},
   "source": [
    "# Центральная предельная теорема"
   ]
  },
  {
   "cell_type": "code",
   "execution_count": 3,
   "id": "68d6268d-47ca-4031-9d65-3f0b327da165",
   "metadata": {},
   "outputs": [],
   "source": [
    "n = 50\n",
    "\n",
    "sample1 = np.random.exponential(0.5, size=n)\n",
    "sample2 = np.random.uniform(0, 1, size=n)\n",
    "\n",
    "sample1 = pd.Series(sample1)\n",
    "sample2 = pd.Series(sample2)"
   ]
  },
  {
   "cell_type": "code",
   "execution_count": 4,
   "id": "23decb4b-7b99-4d8c-9baf-abfae81951a6",
   "metadata": {},
   "outputs": [
    {
     "data": {
      "text/plain": [
       "(array([14., 11.,  7.,  3.,  7.,  5.,  1.,  1.,  0.,  1.]),\n",
       " array([0.00985714, 0.25881992, 0.5077827 , 0.75674548, 1.00570825,\n",
       "        1.25467103, 1.50363381, 1.75259659, 2.00155936, 2.25052214,\n",
       "        2.49948492]),\n",
       " <BarContainer object of 10 artists>)"
      ]
     },
     "execution_count": 4,
     "metadata": {},
     "output_type": "execute_result"
    },
    {
     "data": {
      "image/png": "[encoded data removed]",
      "text/plain": [
       "<Figure size 432x288 with 1 Axes>"
      ]
     },
     "metadata": {
      "needs_background": "light"
     },
     "output_type": "display_data"
    }
   ],
   "source": [
    "plt.hist(sample1)"
   ]
  },
  {
   "cell_type": "code",
   "execution_count": 5,
   "id": "365c8268-ca29-4daa-9275-eddcd64f3aa1",
   "metadata": {},
   "outputs": [
    {
     "data": {
      "text/plain": [
       "(array([4., 4., 6., 9., 4., 2., 8., 7., 2., 4.]),\n",
       " array([0.00634841, 0.10237119, 0.19839396, 0.29441673, 0.3904395 ,\n",
       "        0.48646227, 0.58248504, 0.67850782, 0.77453059, 0.87055336,\n",
       "        0.96657613]),\n",
       " <BarContainer object of 10 artists>)"
      ]
     },
     "execution_count": 5,
     "metadata": {},
     "output_type": "execute_result"
    },
    {
     "data": {
      "image/png": "[encoded data removed]",
      "text/plain": [
       "<Figure size 432x288 with 1 Axes>"
      ]
     },
     "metadata": {
      "needs_background": "light"
     },
     "output_type": "display_data"
    }
   ],
   "source": [
    "plt.hist(sample2)"
   ]
  },
  {
   "cell_type": "code",
   "execution_count": 6,
   "id": "b1d23b61-5bef-4be4-acbc-d15b754038ed",
   "metadata": {},
   "outputs": [],
   "source": [
    "import scipy.stats as stats"
   ]
  },
  {
   "cell_type": "code",
   "execution_count": 7,
   "id": "2d983548-cdbe-4d60-a1bf-373448b32855",
   "metadata": {},
   "outputs": [
    {
     "data": {
      "text/plain": [
       "Ttest_indResult(statistic=2.3984357351983308, pvalue=0.01835780261897154)"
      ]
     },
     "execution_count": 7,
     "metadata": {},
     "output_type": "execute_result"
    }
   ],
   "source": [
    "stats.ttest_ind(sample1, sample2)"
   ]
  },
  {
   "cell_type": "code",
   "execution_count": 8,
   "id": "9ad61898-1018-4fcd-86ae-dc542f5f2a9d",
   "metadata": {},
   "outputs": [
    {
     "data": {
      "text/plain": [
       "MannwhitneyuResult(statistic=1431.0, pvalue=0.21337648322390534)"
      ]
     },
     "execution_count": 8,
     "metadata": {},
     "output_type": "execute_result"
    }
   ],
   "source": [
    "stats.mannwhitneyu(sample1, sample2)"
   ]
  },
  {
   "cell_type": "code",
   "execution_count": 9,
   "id": "682e9f47-f28a-4cb2-9f9e-22a0925af5bc",
   "metadata": {},
   "outputs": [],
   "source": [
    "diff = []\n",
    "for i in range(5000):\n",
    "    mean1 = sample1.sample(n=3, replace=True).mean()\n",
    "    mean2 = sample2.sample(n=3, replace=True).mean()\n",
    "    \n",
    "    diff.append(mean2 - mean1)"
   ]
  },
  {
   "cell_type": "code",
   "execution_count": 10,
   "id": "16e405b9-d119-41bc-b99e-3339252807ec",
   "metadata": {},
   "outputs": [
    {
     "data": {
      "text/plain": [
       "(array([   2.,    5.,   34.,  147.,  450.,  958., 1500., 1268.,  552.,\n",
       "          84.]),\n",
       " array([-1.92441609, -1.66037419, -1.39633229, -1.13229039, -0.86824848,\n",
       "        -0.60420658, -0.34016468, -0.07612278,  0.18791912,  0.45196103,\n",
       "         0.71600293]),\n",
       " <BarContainer object of 10 artists>)"
      ]
     },
     "execution_count": 10,
     "metadata": {},
     "output_type": "execute_result"
    },
    {
     "data": {
      "image/png": "[encoded data removed]",
      "text/plain": [
       "<Figure size 432x288 with 1 Axes>"
      ]
     },
     "metadata": {
      "needs_background": "light"
     },
     "output_type": "display_data"
    }
   ],
   "source": [
    "plt.hist(diff)"
   ]
  },
  {
   "cell_type": "code",
   "execution_count": 13,
   "id": "ce0ed44f-bbce-48ad-b039-8379d12e9f25",
   "metadata": {},
   "outputs": [
    {
     "data": {
      "text/plain": [
       "Ttest_1sampResult(statistic=-40.765822179566655, pvalue=0.0)"
      ]
     },
     "execution_count": 13,
     "metadata": {},
     "output_type": "execute_result"
    }
   ],
   "source": [
    "stats.ttest_1samp(diff, 0, alternative='less')"
   ]
  },
  {
   "cell_type": "code",
   "execution_count": null,
   "id": "ac94f40c-f137-4e94-8ec9-ad4d25bf3871",
   "metadata": {},
   "outputs": [],
   "source": []
  }
 ],
 "metadata": {
  "kernelspec": {
   "display_name": "Python 3 (ipykernel)",
   "language": "python",
   "name": "python3"
  },
  "language_info": {
   "codemirror_mode": {
    "name": "ipython",
    "version": 3
   },
   "file_extension": ".py",
   "mimetype": "text/x-python",
   "name": "python",
   "nbconvert_exporter": "python",
   "pygments_lexer": "ipython3",
   "version": "3.9.12"
  }
 },
 "nbformat": 4,
 "nbformat_minor": 5
}
