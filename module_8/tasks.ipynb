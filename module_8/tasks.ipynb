{
 "cells": [
  {
   "cell_type": "markdown",
   "id": "dc539bcf-ba70-4b62-8e91-0b70d236d16f",
   "metadata": {},
   "source": [
    "# Задача 1\n",
    "\n",
    "Рассчитать вероятность того, что обезьяна напечатает слово \"распределение\" на клавиатуре, состоящей из 40 клавиш."
   ]
  },
  {
   "cell_type": "code",
   "execution_count": null,
   "id": "05d03790-a6cf-45bd-bcbe-25accce71d72",
   "metadata": {},
   "outputs": [],
   "source": []
  },
  {
   "cell_type": "markdown",
   "id": "58de9ae2-98e0-438b-9417-cd865ebdf8bf",
   "metadata": {},
   "source": [
    "# Задача 2\n",
    "\n",
    "Бросаются два 8-гранных кубика. Нужно найти вероятность того, что сумма очков делится на 3."
   ]
  },
  {
   "cell_type": "code",
   "execution_count": 11,
   "id": "3881831c-d571-4b34-8722-591202e990ed",
   "metadata": {
    "tags": []
   },
   "outputs": [
    {
     "name": "stdout",
     "output_type": "stream",
     "text": [
      "0.34375\n"
     ]
    }
   ],
   "source": [
    "from itertools import product\n",
    "\n",
    "dice = list(range(1, 9))\n",
    "combinations = list(product(dice, dice))\n",
    "res = []\n",
    "for comb in combinations:\n",
    "    if sum(comb) % 3 == 0:\n",
    "        res.append(comb)\n",
    "print(len(res) / len(combinations))"
   ]
  },
  {
   "cell_type": "markdown",
   "id": "3c969f82-82dc-4b98-9e49-d5f30495a5d6",
   "metadata": {},
   "source": [
    "# Задача 3\n",
    "\n",
    "Одновременно подбрасывают три кубика и записывают сумму их очков. Если результат превышает 15, то в таблицу записывают 1, а если нет, то 0. Затем значения в таблице суммируют. Какое матожидание этой величины, если проводят серию из 20 бросков?"
   ]
  },
  {
   "cell_type": "code",
   "execution_count": null,
   "id": "203b537c-13ed-468b-bc77-b3d5e9186752",
   "metadata": {},
   "outputs": [],
   "source": []
  },
  {
   "cell_type": "markdown",
   "id": "9807b88e-ef91-4901-a185-92538b37042f",
   "metadata": {},
   "source": [
    "# Задача 4\n",
    "\n",
    "Диаметр подшипников, изготовленных на заводе, представляет собой случайную величину, распределенную нормально с математическим ожиданием 1,5 см и средним квадратическим отклонением 0,04 см.\n",
    "\n",
    "Найти вероятность того, что размер наугад взятого подшипника колеблется от 1,4 до 1,6 см.\n",
    "\n",
    "Сначала решите при помощи правила 3 сигм, а затем получите точный ответ."
   ]
  },
  {
   "cell_type": "code",
   "execution_count": 1,
   "id": "a7ac66a5-b68d-4c1b-b5f9-049050d5bf4e",
   "metadata": {},
   "outputs": [],
   "source": [
    "import scipy.stats\n",
    "\n",
    "def normal_integral(x):\n",
    "    return scipy.stats.norm.cdf(x) - 0.5"
   ]
  },
  {
   "cell_type": "code",
   "execution_count": null,
   "id": "105f2d95-9b3c-4915-ade0-734a956db9f1",
   "metadata": {},
   "outputs": [],
   "source": []
  },
  {
   "cell_type": "markdown",
   "id": "0f3834cb-2661-4034-abfb-11eaf01d28a5",
   "metadata": {},
   "source": [
    "# Задача 5\n",
    "\n",
    "Среди определенной группы людей вероятность заболеть коронавирусом 0.1. Тест позволяет выявить болезнь с вероятностью 0.98 на больных людях, но также он дает ложно-положительный результат с вероятностью 0.01. Найдите вероятность того, что человек, сдавший тест, действительно болен."
   ]
  },
  {
   "cell_type": "code",
   "execution_count": null,
   "id": "c962534d-32bf-481c-aee3-8d16c4966955",
   "metadata": {},
   "outputs": [],
   "source": []
  },
  {
   "cell_type": "markdown",
   "id": "08f83b29-e494-4282-8aa5-1e649605f771",
   "metadata": {},
   "source": [
    "# Задача 6\n",
    "\n",
    "Используя условия прошлой задачи найдите вероятность того, что класс из 30 человек закроют на карантин. Класс закрывают на карантин, если тест дает положительный результат хотя бы на 5 школьниках."
   ]
  },
  {
   "cell_type": "code",
   "execution_count": null,
   "id": "e6e924ed-8d59-4d04-a25c-818eee63a6e0",
   "metadata": {},
   "outputs": [],
   "source": []
  },
  {
   "cell_type": "markdown",
   "id": "4bba826a-b5ad-4959-bff3-a4bb1de4c309",
   "metadata": {},
   "source": [
    "# Задача 7\n",
    "\n",
    "Используя датасет о чаевых рассчитать основные статистические показатели, построить гистограмму и boxplot:\n",
    "\n",
    "- по всей выборке\n",
    "- только по курящим мужчинам\n",
    "- только по некурящим женщинам, которые ходят в пятницу на ужин"
   ]
  },
  {
   "cell_type": "code",
   "execution_count": null,
   "id": "f931b9ee-80fa-4f20-9be2-1daf80c734f2",
   "metadata": {},
   "outputs": [],
   "source": [
    "import seaborn as sns\n",
    "\n",
    "tips_df = sns.load_dataset(\"tips\")\n",
    "tips_df.head()"
   ]
  }
 ],
 "metadata": {
  "kernelspec": {
   "display_name": "Python 3 (ipykernel)",
   "language": "python",
   "name": "python3"
  },
  "language_info": {
   "codemirror_mode": {
    "name": "ipython",
    "version": 3
   },
   "file_extension": ".py",
   "mimetype": "text/x-python",
   "name": "python",
   "nbconvert_exporter": "python",
   "pygments_lexer": "ipython3",
   "version": "3.9.7"
  }
 },
 "nbformat": 4,
 "nbformat_minor": 5
}
